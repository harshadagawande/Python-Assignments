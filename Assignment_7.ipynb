{
  "nbformat": 4,
  "nbformat_minor": 0,
  "metadata": {
    "colab": {
      "provenance": []
    },
    "kernelspec": {
      "name": "python3",
      "display_name": "Python 3"
    },
    "language_info": {
      "name": "python"
    }
  },
  "cells": [
    {
      "cell_type": "markdown",
      "source": [
        "\n",
        "\n",
        "Question 1 :\n",
        "\n",
        "A 3 m square footing is located in a dense sand at a depth of 2 m. Determine the ultimate bearing capacity for the following water table positions:\n",
        "\n",
        "a. At ground surface  \n",
        "b. At footing level  \n",
        "c. 1 m below the footing\n",
        "\n",
        "Calculate the bearing capacity by approximate formulas and by conventional methods. Take the bulk density of soil as 18 kN/m³, saturated soil density as 20 kN/m³, unit weight of water as 10 kN/m³, and for an angle of internal friction of 35° Nq is 33, Nγ = 34.\n",
        "\n"
      ],
      "metadata": {
        "id": "854k5UXCQ64x"
      }
    },
    {
      "cell_type": "code",
      "source": [
        "# To Determine the bearing capacity of soil with water table\n",
        "\n",
        "# Input values\n",
        "BulkDensity = float(input(\"Enter the value of Bulk Density of soil: \"))\n",
        "SatDensity = float(input(\"Enter the value of Saturated Density of soil: \"))\n",
        "WaterDensity = float(input(\"Enter the unit weight of Water: \"))\n",
        "Df = float(input(\"Enter the value of depth of footing: \"))\n",
        "Dw = float(input(\"Enter the value of water table above footing level: \"))\n",
        "Dw1 = float(input(\"Enter the value of Water table below the level of footing: \"))\n",
        "B = float(input(\"Enter the value of width of footing: \"))\n",
        "Nq = float(input(\"Enter the value of Nq: \"))\n",
        "Ng = float(input(\"Enter the value of N gamma (Ng): \"))\n",
        "\n",
        "# Calculate Submerged Density\n",
        "SubDensity = SatDensity - WaterDensity\n",
        "print(\"Submerged Weight of soil is:\", SubDensity)\n",
        "\n",
        "# The bearing capacity of soil when water table is at ground\n",
        "print(\"CASE A\")\n",
        "qu = (SubDensity * Df * Ng) + (0.5 * 0.8 * B * SubDensity * Ng)\n",
        "print(\"The value of ultimate bearing capacity of soil is:\", qu)\n",
        "\n",
        "# Approximate calculation of Bearing capacity of soil\n",
        "Rw = 0.5 + 0.5 * (Dw / B)\n",
        "print(\"The value of Rw is:\", Rw)\n",
        "Rw1 = 0.5 + 0.5 * (Dw1 / B)\n",
        "print(\"The value of Rw1 is:\", Rw1)\n",
        "qu = (BulkDensity * Df * Ng * Rw) + (0.5 * 0.8 * B * BulkDensity * Ng * Rw1)\n",
        "print(\"The value of ultimate bearing capacity of soil is:\", qu)\n",
        "\n",
        "# Case B\n",
        "print(\"CASE B\")\n",
        "qu = (BulkDensity * Df * Nq) + (0.5 * 0.8 * B * SubDensity * Ng)\n",
        "print(\"The value of ultimate bearing capacity is:\", qu)\n",
        "\n",
        "Dw = float(input(\"Enter the value of water table above footing level: \"))\n",
        "Dw1 = float(input(\"Enter the value of Water table below the level of footing: \"))\n",
        "print(\"The approximate value of ultimate bearing capacity is:\")\n",
        "\n",
        "Rw = 0.5 + 0.5 * (Dw / B)\n",
        "print(\"The value of Rw is:\", Rw)\n",
        "Rw1 = 0.5 + 0.5 * (Dw1 / B)\n",
        "print(\"The value of Rw1 is:\", Rw1)\n",
        "qu = (BulkDensity * Df * Ng * Rw) + (0.5 * 0.8 * B * BulkDensity * Ng * Rw1)\n",
        "print(\"The approximate value of ultimate bearing capacity is:\", qu)\n",
        "\n",
        "# Case C\n",
        "print(\"CASE C\")\n",
        "x = float(input(\"Enter the value of depth of water below footing: \"))\n",
        "qu = (BulkDensity * Df * Ng) + (0.5 * 0.8 * (BulkDensity * x) + (SubDensity * (B - x) * Ng))\n",
        "print(\"The value of ultimate bearing capacity is:\", qu)\n",
        "\n",
        "Dw = float(input(\"Enter the value of water table above footing level: \"))\n",
        "Dw1 = float(input(\"Enter the value of Water table below the level of footing: \"))\n",
        "print(\"The approximate value of ultimate bearing capacity is:\")\n",
        "\n",
        "Rw = 0.5 + 0.5 * (Dw / B)\n",
        "print(\"The value of Rw is:\", Rw)\n",
        "Rw1 = 0.5 + 0.5 * (Dw1 / B)\n",
        "print(\"The value of Rw1 is:\", Rw1)\n",
        "qu = (BulkDensity * Df * Ng * Rw) + (0.5 * 0.8 * B * BulkDensity * Ng * Rw1)\n",
        "print(\"The value of ultimate bearing capacity is:\", qu)\n"
      ],
      "metadata": {
        "colab": {
          "base_uri": "https://localhost:8080/"
        },
        "id": "jDhEBrJMKqKt",
        "outputId": "3a673566-3ae3-4c48-a0f7-46536efeee47"
      },
      "execution_count": 2,
      "outputs": [
        {
          "output_type": "stream",
          "name": "stdout",
          "text": [
            "Enter the value of Bulk Density of soil: 18\n",
            "Enter the value of Saturated Density of soil: 20\n",
            "Enter the unit weight of Water: 10\n",
            "Enter the value of depth of footing: 2\n",
            "Enter the value of water table above footing level: 0\n",
            "Enter the value of Water table below the level of footing: 0\n",
            "Enter the value of width of footing: 3\n",
            "Enter the value of Nq: 33\n",
            "Enter the value of N gamma (Ng): 34\n",
            "Submerged Weight of soil is: 10.0\n",
            "CASE A\n",
            "The value of ultimate bearing capacity of soil is: 1088.0\n",
            "The value of Rw is: 0.5\n",
            "The value of Rw1 is: 0.5\n",
            "The value of ultimate bearing capacity of soil is: 979.2\n",
            "CASE B\n",
            "The value of ultimate bearing capacity is: 1596.0\n",
            "Enter the value of water table above footing level: 3\n",
            "Enter the value of Water table below the level of footing: 0\n",
            "The approximate value of ultimate bearing capacity is:\n",
            "The value of Rw is: 1.0\n",
            "The value of Rw1 is: 0.5\n",
            "The approximate value of ultimate bearing capacity is: 1591.2\n",
            "CASE C\n",
            "Enter the value of depth of water below footing: 1\n",
            "The value of ultimate bearing capacity is: 1911.2\n",
            "Enter the value of water table above footing level: 3\n",
            "Enter the value of Water table below the level of footing: 1\n",
            "The approximate value of ultimate bearing capacity is:\n",
            "The value of Rw is: 1.0\n",
            "The value of Rw1 is: 0.6666666666666666\n",
            "The value of ultimate bearing capacity is: 1713.6\n"
          ]
        }
      ]
    },
    {
      "cell_type": "markdown",
      "source": [],
      "metadata": {
        "id": "7pt__DL-SaYg"
      }
    },
    {
      "cell_type": "markdown",
      "source": [],
      "metadata": {
        "id": "zerUy0gsXvSW"
      }
    },
    {
      "cell_type": "markdown",
      "source": [
        "\n",
        "Question 2 :\n",
        "\n",
        "A 450 mm square section of concrete pile, 15 m long, is driven into deep deposits of uniform clay. The laboratory UCS test on an undisturbed sample indicates an average value of UCS as 75 kN/m². Calculate the ultimate load capacity of the soil. α = 0.8\n"
      ],
      "metadata": {
        "id": "Gas0L6ogScY7"
      }
    },
    {
      "cell_type": "code",
      "source": [
        "# To find the ultimate load-carrying capacity of a pile\n",
        "\n",
        "# Input values\n",
        "UCS = float(input(\"Enter the value of UCS of soil (in kN/m²): \"))\n",
        "Cu = UCS / 2\n",
        "B = float(input(\"Enter the dimension of the pile (in meters): \"))\n",
        "L = float(input(\"Enter the length of the pile (in meters): \"))\n",
        "Alpha = float(input(\"Enter the value of adhesion factor: \"))\n",
        "Nc = float(input(\"Enter the value of Nc: \"))\n",
        "\n",
        "# Calculations\n",
        "Ab = B * B\n",
        "print(\"The base area of the pile is:\", Ab, \"m²\")\n",
        "\n",
        "As = 4 * B * L\n",
        "print(\"The surface area of the pile is:\", As, \"m²\")\n",
        "\n",
        "print(\"The value of cohesion of soil is:\", Cu, \"kN/m²\")\n",
        "\n",
        "Qpu = Cu * Nc * Ab\n",
        "print(\"Qpu (load capacity of the pile base):\", Qpu, \"kN\")\n",
        "\n",
        "Qf = Alpha * Cu * As\n",
        "print(\"Qf (load capacity of the pile shaft):\", Qf, \"kN\")\n",
        "\n",
        "Qu = Qpu + Qf\n",
        "print(\"The ultimate load-carrying capacity of the pile (Qu):\", Qu, \"kN\")\n"
      ],
      "metadata": {
        "colab": {
          "base_uri": "https://localhost:8080/"
        },
        "id": "0GuJV-J9SfEp",
        "outputId": "f4674b2e-584d-44bb-eb30-ea3588a151f5"
      },
      "execution_count": 3,
      "outputs": [
        {
          "output_type": "stream",
          "name": "stdout",
          "text": [
            "Enter the value of UCS of soil (in kN/m²): 75\n",
            "Enter the dimension of the pile (in meters): 0.45\n",
            "Enter the length of the pile (in meters): 15\n",
            "Enter the value of adhesion factor: 0.8\n",
            "Enter the value of Nc: 9\n",
            "The base area of the pile is: 0.2025 m²\n",
            "The surface area of the pile is: 27.0 m²\n",
            "The value of cohesion of soil is: 37.5 kN/m²\n",
            "Qpu (load capacity of the pile base): 68.34375 kN\n",
            "Qf (load capacity of the pile shaft): 810.0 kN\n",
            "The ultimate load-carrying capacity of the pile (Qu): 878.34375 kN\n"
          ]
        }
      ]
    }
  ]
}